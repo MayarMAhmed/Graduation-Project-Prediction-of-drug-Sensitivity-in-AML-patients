{
  "nbformat": 4,
  "nbformat_minor": 0,
  "metadata": {
    "colab": {
      "name": "Prediction of Drug sensitivity for AML Patients.ipynb",
      "provenance": [],
      "authorship_tag": "ABX9TyOlL4Ux0mYLqSzR748tZ+R3",
      "include_colab_link": true
    },
    "kernelspec": {
      "name": "python3",
      "display_name": "Python 3"
    },
    "language_info": {
      "name": "python"
    }
  },
  "cells": [
    {
      "cell_type": "markdown",
      "metadata": {
        "id": "view-in-github",
        "colab_type": "text"
      },
      "source": [
        "<a href=\"https://colab.research.google.com/github/Mayarmohamed/Graduation-Project-Prediction-of-drug-Sensitivity-in-AML-patients/blob/main/Prediction_of_Drug_sensitivity_for_AML_Patients.ipynb\" target=\"_parent\"><img src=\"https://colab.research.google.com/assets/colab-badge.svg\" alt=\"Open In Colab\"/></a>"
      ]
    },
    {
      "cell_type": "markdown",
      "metadata": {
        "id": "xtYQNbeW6SSK"
      },
      "source": [
        "**To seach for the optimum paramaters that increase the r2 score**"
      ]
    },
    {
      "cell_type": "code",
      "metadata": {
        "id": "xqCLD8rN3xuB"
      },
      "source": [
        "import numpy as np\n",
        "from pandas import DataFrame\n",
        "from sklearn.model_selection import train_test_split\n",
        "from sklearn.ensemble import RandomForestRegressor\n",
        "import pandas as pd\n",
        "from  openpyxl import load_workbook\n",
        "import numpy as np\n",
        "from pandas import DataFrame\n",
        "from math import sqrt\n",
        "from sklearn.metrics import mean_absolute_error\n",
        "from sklearn.model_selection import GridSearchCV\n",
        "from sklearn.metrics import mean_squared_error\n",
        "from sklearn.metrics import r2_score\n",
        "from sklearn.feature_selection import mutual_info_regression\n",
        "import matplotlib.pyplot as plt\n",
        "import os \n",
        "import math\n",
        "\n",
        "directory='/content/drive/MyDrive/Colab Notebooks/Model Files'\n",
        "drugs=pd.ExcelFile(directory+'/BEAT_AML_DrugResponse_Kinase.xlsx')\n",
        "df = pd.read_excel(drugs, 'All Drugs')\n",
        "df1=df[df['inhibitor']=='Pelitinib (EKB-569)']\n",
        "expression=pd.read_excel(directory+'/Coding_Genes.xlsx').T\n",
        "\n",
        "#Data Preprocessing\n",
        "new_header = expression.iloc[0] #grab the first row for the header\n",
        "expression = expression[1:] #take the data less the header row\n",
        "expression.columns = new_header #set the header row as the df header\n",
        "data=expression.loc[expression.index.intersection(df1['lab_id']),:]\n",
        "df1 = df1.set_index('lab_id')\n",
        "dru=df1.loc[df1.index.intersection(data.index)]\n",
        "print(dru)\n",
        "\n",
        "#Mutual Information\n",
        "mi = mutual_info_regression(data, dru['auc'],random_state=42)\n",
        "mi = pd.DataFrame(mi)\n",
        "mi.insert(0, \"Genes\", X_train.columns, True)\n",
        "mi.columns=[\"Genes\",\"data\"]\n",
        "z1=mi.sort_values(by=\"data\",ascending=False)\n",
        "z=z1[z1[\"data\"]>=0.1]\n",
        "\n",
        "#Data Splitting\n",
        "X_train, X_valid, y_train, y_valid = train_test_split(data, dru['auc'], test_size=0.3, random_state=0)\n",
        "r2={}\n",
        "\n",
        "#Mutual Information Data \n",
        "for mutual in range(100,350):\n",
        "  index_=z1.iloc[[i for i in range(mutual)]].index.values\n",
        "  x_train=X_train.iloc[:,index_]\n",
        "  x_test=X_valid.iloc[:,index_]\n",
        "  #Random forest Model\n",
        "  for trees in range(10,150):\n",
        "    rf = RandomForestRegressor(random_state=0,max_features= 'sqrt',n_estimators=trees)\n",
        "    rf.fit(x_train, y_train)\n",
        "    reg_prediction=rf.predict(x_test)\n",
        "    r2s= r2_score(y_valid, reg_prediction)\n",
        "    r2[str(trees)+' & '+str(mutual)]=r2s\n",
        "    print(r2s,'\\t',mean_squared_error(y_valid,reg_prediction))\n",
        "\n",
        "#Plotting the r2 score for tested RF paramaters\n",
        "plt.plot(list(r2.keys()),list(r2.values()))\n",
        "plt.show()\n",
        "Keymax = max(r2, key=r2.get)\n",
        "print(Keymax)\n",
        "print(r2.get(Keymax))\n",
        "\n"
      ],
      "execution_count": null,
      "outputs": []
    },
    {
      "cell_type": "markdown",
      "metadata": {
        "id": "RI6SNH_e59yO"
      },
      "source": [
        "**Evaluation of Each model and extract the feature importance**"
      ]
    },
    {
      "cell_type": "code",
      "metadata": {
        "id": "6TOlseS35RfZ"
      },
      "source": [
        "import numpy as np\n",
        "from pandas import DataFrame\n",
        "from sklearn.model_selection import train_test_split\n",
        "from sklearn.ensemble import RandomForestRegressor\n",
        "import pandas as pd\n",
        "from  openpyxl import load_workbook\n",
        "import numpy as np\n",
        "from pandas import DataFrame\n",
        "from math import sqrt\n",
        "from sklearn.metrics import mean_absolute_error\n",
        "from sklearn.model_selection import GridSearchCV\n",
        "from sklearn.metrics import mean_squared_error\n",
        "from sklearn.metrics import r2_score\n",
        "from sklearn.feature_selection import mutual_info_regression\n",
        "import matplotlib.pyplot as plt\n",
        "import os \n",
        "import math\n",
        "\n",
        "directory='/content/drive/MyDrive/Colab Notebooks/Model Files'\n",
        "drugs=pd.ExcelFile(directory+'/BEAT_AML_DrugResponse_Kinase.xlsx')\n",
        "df = pd.read_excel(drugs, 'All Drugs')\n",
        "df1=df[df['inhibitor']=='Afatinib (BIBW-2992)'] #or Gefitinib Erlotinib Lapatinib Pelitinib (EKB-569)\n",
        "expression=pd.read_excel(directory+'/Coding_Genes.xlsx').T\n",
        "\n",
        "\n",
        "#Data Preprocessing\n",
        "new_header = expression.iloc[0] #grab the first row for the header\n",
        "expression = expression[1:] #take the data less the header row\n",
        "expression.columns = new_header #set the header row as the df header\n",
        "data=expression.loc[expression.index.intersection(df1['lab_id']),:]\n",
        "df1 = df1.set_index('lab_id')\n",
        "dru=df1.loc[df1.index.intersection(data.index)]\n",
        "print(dru)\n",
        "\n",
        "#Data Splitting\n",
        "\n",
        "X_train, X_valid, y_train, y_valid = train_test_split(data, dru['auc'], test_size=0.3, random_state=0)\n",
        "\n",
        "#Mutual Information\n",
        "mi = mutual_info_regression(data, dru['auc'],random_state=42)\n",
        "mi = pd.DataFrame(mi)\n",
        "mi.insert(0, \"Genes\", X_train.columns, True)\n",
        "mi.columns=[\"Genes\",\"data\"]\n",
        "z1=mi.sort_values(by=\"data\",ascending=False)\n",
        "z=z1[z1[\"data\"]>=0.1]\n",
        "\n",
        "\n",
        "#Mutual Information Data \n",
        "index_=z1.iloc[[i for i in range(156)]].index.values\n",
        "x_train=X_train.iloc[:,index_]\n",
        "x_test=X_valid.iloc[:,index_]\n",
        "#Random forest Model\n",
        "rf = RandomForestRegressor(random_state=0,max_features= 'auto',\n",
        "                           n_estimators=7)\n",
        "rf.fit(x_train, y_train)\n",
        "reg_prediction=rf.predict(x_test)\n",
        "r2s= r2_score(y_valid, reg_prediction)\n",
        "mse=mean_squared_error(y_valid,reg_prediction)\n",
        "print(\"The r2 score is \",r2s,'\\nThe MSE is',mse,'\\nThe RMSE is',sqrt(mse))\n",
        "\n",
        "\n",
        "sorted_idx = rf.feature_importances_.argsort()\n",
        "feature_list=expression.columns\n",
        "# Get numerical feature importances\n",
        "importances = list(rf.feature_importances_)\n",
        "# List of tuples with variable and importance\n",
        "feature_importances = [(feature,importance) for feature, importance in zip(feature_list, importances)]\n",
        "# Sort the feature importances by most important first\n",
        "feature_importances = sorted(feature_importances, key = lambda x: x[1], reverse = True)\n",
        "# Print out the feature and importances \n",
        "[print('Variable: {:20} Importance: {}'.format(*pair)) for pair in feature_importances[:5]];\n",
        "\n"
      ],
      "execution_count": null,
      "outputs": []
    }
  ]
}